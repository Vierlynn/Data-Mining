{
  "nbformat": 4,
  "nbformat_minor": 0,
  "metadata": {
    "colab": {
      "name": "KMeans.ipynb",
      "provenance": [],
      "collapsed_sections": [],
      "toc_visible": true
    },
    "kernelspec": {
      "name": "python3",
      "display_name": "Python 3"
    }
  },
  "cells": [
    {
      "cell_type": "markdown",
      "metadata": {
        "id": "aug6MqKdpFU1",
        "colab_type": "text"
      },
      "source": [
        "# <center> Data Mining: K-Means Clustering </center>\n",
        "\n",
        "\n",
        "Name: Nanda Hakiki\n",
        "\n",
        "SID: 1301160443\n",
        "\n",
        "\n",
        "reference: https://www.youtube.com/watch?v=1XqG0kaJVHY&feature=youtu.be"
      ]
    },
    {
      "cell_type": "markdown",
      "metadata": {
        "id": "3N3AZpPnrHBW",
        "colab_type": "text"
      },
      "source": [
        "## Importing Libraries"
      ]
    },
    {
      "cell_type": "code",
      "metadata": {
        "id": "sOyzDq4zoM7N",
        "colab_type": "code",
        "colab": {}
      },
      "source": [
        "from sklearn.datasets import make_blobs\n",
        "from sklearn.cluster import KMeans\n",
        "import matplotlib.pyplot as plt"
      ],
      "execution_count": 0,
      "outputs": []
    },
    {
      "cell_type": "markdown",
      "metadata": {
        "id": "4LH979TarPd0",
        "colab_type": "text"
      },
      "source": [
        "## Defining datasets"
      ]
    },
    {
      "cell_type": "code",
      "metadata": {
        "id": "TxdRN_6UoUbu",
        "colab_type": "code",
        "colab": {}
      },
      "source": [
        "x, y = make_blobs(\n",
        "    n_samples=250, n_features=2,\n",
        "    centers=3, cluster_std=0.5,\n",
        "    shuffle=True, random_state=0\n",
        ")"
      ],
      "execution_count": 0,
      "outputs": []
    },
    {
      "cell_type": "markdown",
      "metadata": {
        "id": "Db27cIOrrZK9",
        "colab_type": "text"
      },
      "source": [
        "## K-Means Clustering using scikit-learn "
      ]
    },
    {
      "cell_type": "code",
      "metadata": {
        "id": "4CuBUR-1oWOP",
        "colab_type": "code",
        "colab": {}
      },
      "source": [
        "u = KMeans(\n",
        "    n_clusters=3, init='random',\n",
        "    n_init=100, max_iter=300,\n",
        "    tol=10**-4, random_state=0\n",
        ")\n",
        "\n",
        "km = u.fit_predict(x)"
      ],
      "execution_count": 0,
      "outputs": []
    },
    {
      "cell_type": "markdown",
      "metadata": {
        "id": "QJUKDNWmsz0X",
        "colab_type": "text"
      },
      "source": [
        "## defining plot for both centroids and clusters"
      ]
    },
    {
      "cell_type": "code",
      "metadata": {
        "id": "NclZqgoRoYcb",
        "colab_type": "code",
        "colab": {
          "base_uri": "https://localhost:8080/",
          "height": 265
        },
        "outputId": "c78fc344-cd95-4dba-b8a6-145fc2bbc176"
      },
      "source": [
        "#clusters\n",
        "plt.scatter(\n",
        "    x[km == 0, 0], x[km == 0, 1],\n",
        "    s=25, c='red'\n",
        ")\n",
        "plt.scatter(\n",
        "    x[km == 1, 0], x[km == 1, 1],\n",
        "    s=25, c='blue'\n",
        ")\n",
        "plt.scatter(\n",
        "    x[km == 2, 0], x[km == 2, 1],\n",
        "    s=25, c='green'\n",
        ")\n",
        "#centroids\n",
        "plt.scatter(\n",
        "    u.cluster_centers_[:, 0], u.cluster_centers_[:, 1],\n",
        "    s=100, marker='o',\n",
        "    c='yellow', edgecolor='magenta',\n",
        "    label='centroids'\n",
        ")\n",
        "\n",
        "plt.legend(scatterpoints=1)\n",
        "plt.show()"
      ],
      "execution_count": 4,
      "outputs": [
        {
          "output_type": "display_data",
          "data": {
            "image/png": "[encoded data removed]",
            "text/plain": [
              "<Figure size 432x288 with 1 Axes>"
            ]
          },
          "metadata": {
            "tags": []
          }
        }
      ]
    }
  ]
}